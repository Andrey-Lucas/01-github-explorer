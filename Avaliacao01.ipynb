{
  "cells": [
    {
      "cell_type": "markdown",
      "metadata": {
        "id": "view-in-github",
        "colab_type": "text"
      },
      "source": [
        "<a href=\"https://colab.research.google.com/github/Andrey-Lucas/01-github-explorer/blob/master/Avaliacao01.ipynb\" target=\"_parent\"><img src=\"https://colab.research.google.com/assets/colab-badge.svg\" alt=\"Open In Colab\"/></a>"
      ]
    },
    {
      "cell_type": "markdown",
      "metadata": {
        "id": "bPISwE0Is_Pu"
      },
      "source": [
        "# Avaliação 1 - Semana 09 e 10\n",
        "\n",
        "Esta é **avaliação 1 (A1)**. Você deverá preenchê-la e enviá-la dentro do prazo (até o fechamento da semana corrente)."
      ]
    },
    {
      "cell_type": "markdown",
      "metadata": {
        "id": "RAg7REeatl9X"
      },
      "source": [
        "###Questão 1: Listas\n",
        "\n",
        "*Laureados com o prêmio Nobel da Paz*\n",
        "\n",
        "O Prêmio Nobel da Paz é concedido anualmente pelo Comitê Nobel Norueguês 'para a pessoa/organização que tenha feito o maior ou o melhor trabalho pela fraternidade entre nações, pela abolição ou redução dos exércitos permanentes e pela manutenção e promoção de congressos de paz.'\n"
      ]
    },
    {
      "cell_type": "markdown",
      "metadata": {
        "id": "UdH6T8n3a_GW"
      },
      "source": [
        "**(0,5 ponto)** 1.a) Crie uma *lista* com os nomes dos seguintes laureados com o Nobel da paz entre 2018 e 2021:\n",
        "\n",
        "*   Dmitry Muratov\n",
        "*   Maria Ressa\n",
        "*   Programa Alimentar Mundial\n",
        "*   Abiy Ahmed Ali\n",
        "*   Denis Mukwege\n",
        "*   Fausto Silva\n",
        "\n",
        "Chame a lista como `nobel`."
      ]
    },
    {
      "cell_type": "code",
      "execution_count": 7,
      "metadata": {
        "id": "izFFVN2Nst-F"
      },
      "outputs": [],
      "source": [
        "# Questao 1\n",
        " #1.a)\n",
        "nobel = ['Dmitry Muratov', 'Maria Ressa', 'Programa Alimentar Mundial', 'Abiy Ahmed Ali', 'Denis Mukwege', 'Fausto Silva']\n"
      ]
    },
    {
      "cell_type": "markdown",
      "metadata": {
        "id": "3xNawcemugMY"
      },
      "source": [
        "**(0,5 ponto)** 1.b) _Ô loco, bicho!_ Algo está errado nessa lista. Por um _engano do estagiário_, `Fausto Siva` foi incluído na lista indevidamente. Remova seu nome da lista e salve as alterações no mesmo objeto. "
      ]
    },
    {
      "cell_type": "code",
      "execution_count": 8,
      "metadata": {
        "id": "yVxFX6kPuu6Z"
      },
      "outputs": [],
      "source": [
        "# Questao 1\n",
        "#1.b) \n",
        "nobel = ['Dmitry Muratov', 'Maria Ressa', 'Programa Alimentar Mundial', 'Abiy Ahmed Ali', 'Denis Mukwege', 'Fausto Silva']\n",
        "\n",
        "nobel.remove('Fausto Silva')\n"
      ]
    },
    {
      "cell_type": "markdown",
      "metadata": {
        "id": "sbXN8AoMuxvx"
      },
      "source": [
        "**(0,5 ponto)** 1.c) Nota-se que a lista não está ordenada segundo a ordem dos premiados. Reverta a ordem da lista `nobel` e salve as alterações no mesmo objeto.  "
      ]
    },
    {
      "cell_type": "code",
      "execution_count": 9,
      "metadata": {
        "id": "YxUJOpR2uyFh"
      },
      "outputs": [],
      "source": [
        "# Questao 1\n",
        "# 1.c) \n",
        "nobel = ['Dmitry Muratov', 'Maria Ressa', 'Programa Alimentar Mundial', 'Abiy Ahmed Ali', 'Denis Mukwege']\n",
        "\n",
        "nobel.reverse()\n"
      ]
    },
    {
      "cell_type": "markdown",
      "metadata": {
        "id": "DBtbg911gwsw"
      },
      "source": [
        "**(0,5 ponto)** 1.d) A vencedora _Nadia Murad_ não está na lista! Adicione seu nome entre `Denis Mukwege` e `Abiy Ahmed Ali`. Salve as alterações no objeto `nobel`."
      ]
    },
    {
      "cell_type": "code",
      "execution_count": 11,
      "metadata": {
        "id": "U1zV3c2i6qe_"
      },
      "outputs": [],
      "source": [
        "# Questao 1\n",
        "# 1.d) \n",
        "nobel = ['Dmitry Muratov', 'Maria Ressa', 'Programa Alimentar Mundial', 'Denis Mukwege', 'Abiy Ahmed Ali']\n",
        "\n",
        "nobel.insert(4, 'Nadia Murad')\n"
      ]
    },
    {
      "cell_type": "markdown",
      "metadata": {
        "id": "7VCTA6khhu-b"
      },
      "source": [
        "**(0,5 ponto)** 1.e) O resultado de 2022 acaba de sair. Adicione ao fim da lista os seguintes nomes:\n",
        "\n",
        "*   Ales Bialiatski\n",
        "*   Memorial\n",
        "*   Centro de Liberdades Civis\n",
        "\n",
        "Salve as alterações no objeto `nobel`."
      ]
    },
    {
      "cell_type": "code",
      "execution_count": 13,
      "metadata": {
        "id": "YhjQX40miP62"
      },
      "outputs": [],
      "source": [
        "# Questao 1\n",
        "# 1.e) \n",
        "nobel = ['Dmitry Muratov', 'Maria Ressa', 'Programa Alimentar Mundial', 'Denis Mukwege', 'Nadia Murad', 'Abiy Ahmed Ali']\n",
        "\n",
        "nobel.append('Ales Bialiatski')\n",
        "nobel.append('Memorial')\n",
        "nobel.append('Centro de Liberdades Civis')\n"
      ]
    },
    {
      "cell_type": "markdown",
      "metadata": {
        "id": "8LNVxN-DvqpU"
      },
      "source": [
        "###Questão 2: Funções"
      ]
    },
    {
      "cell_type": "markdown",
      "source": [
        "**(0,5 ponto)** 2.a) Eventualmente, padronizamos nomes em bases de dados com letras maiúsculas. Crie uma função da qual a entrada seja uma `string` com o nome do cliente e a saída seja esse mesmo nome com letras maiusculas. Teste utilizando seu nome completo. "
      ],
      "metadata": {
        "id": "BnStI8lH3aTz"
      }
    },
    {
      "cell_type": "code",
      "execution_count": 16,
      "metadata": {
        "id": "lXTKOd3pvrmT"
      },
      "outputs": [],
      "source": [
        "# Questao 2\n",
        "# 2.a) \n",
        "\n",
        "# Funcao\n",
        "\n",
        "\n",
        "# Teste\n"
      ]
    },
    {
      "cell_type": "markdown",
      "source": [
        "**(0,5 ponto)** 2.b) Crie uma função da qual a entrada seja uma `string` com uma palavra e a saída seja essa mesma palavra de trás pra frente. Por exemplo, `dados` -> `sodad`. Teste utilizando sua palavra de preferência. "
      ],
      "metadata": {
        "id": "KpX019zT4Vyo"
      }
    },
    {
      "cell_type": "code",
      "source": [
        "# Questao 2\n",
        "# 2.b) \n",
        "\n",
        "# Funcao\n",
        "\n",
        "\n",
        "# Teste\n"
      ],
      "metadata": {
        "id": "tKXZIYfN4X5o"
      },
      "execution_count": null,
      "outputs": []
    },
    {
      "cell_type": "markdown",
      "source": [
        "**(0,5 ponto)** 2.c) Você sabe o que é palíndromo? Palíndromo é uma palavra, frase ou número que permanece igual quando lidos de trás para frente. Por exemplo, _arara_, _Ana_, _luz azul_, etc. Crie uma função que cheque se a palavra de entrada é um palíndromo. \n",
        "\n",
        "\n",
        "\n",
        "\n"
      ],
      "metadata": {
        "id": "qVrii9-f6Cl2"
      }
    },
    {
      "cell_type": "code",
      "source": [
        "# Questao 2\n",
        "# 2.c) \n",
        "\n",
        "# Funcao\n",
        "\n",
        "\n",
        "# Teste\n"
      ],
      "metadata": {
        "id": "u5oa5NX76yso"
      },
      "execution_count": null,
      "outputs": []
    },
    {
      "cell_type": "markdown",
      "source": [
        "**(0,5 ponto)** 2.d) Crie uma função com 2 argumentos `valor` e `percentual` que calcule o percentual de um determinado valor. Teste a função utilizando sua idade.\n",
        "\n",
        "> Dica: o percentual $p$ de um valor $v$ é igual a $v \\times \\frac{p}{100}$."
      ],
      "metadata": {
        "id": "XqgqJq7M7RUC"
      }
    },
    {
      "cell_type": "code",
      "source": [
        "# Questao 2\n",
        "# 2.d) \n",
        "\n",
        "# Funcao\n",
        "\n",
        "\n",
        "# Teste\n"
      ],
      "metadata": {
        "id": "oo2UqYmk7yAr"
      },
      "execution_count": null,
      "outputs": []
    },
    {
      "cell_type": "markdown",
      "source": [
        "**(0,5 ponto)** 2.e) Suponha que uma empresa cobra taxa de 5,5% de multa para atrasos em pagamentos. Crie uma função que calcule o valor atualizado de uma dívida. \n",
        "\n",
        "> Dica: o montante (ou total) da dívida $m$ é igual a $v \\times \\frac{(1+p)}{100}$ ou $v + v \\times \\frac{p}{100}$. "
      ],
      "metadata": {
        "id": "kinnfxP39De2"
      }
    },
    {
      "cell_type": "code",
      "source": [
        "# Questao 2\n",
        "# 2.e) \n",
        "\n",
        "# Funcao\n",
        "\n",
        "\n",
        "# Teste\n"
      ],
      "metadata": {
        "id": "j-VOeaXn9DIn"
      },
      "execution_count": null,
      "outputs": []
    },
    {
      "cell_type": "markdown",
      "source": [
        "###Questão 3: Manipulando base de dados\n",
        "\n",
        "A base de dados abaixo é uma das mais famosas utilizadas para aprendizado em Ciência de Dados. Ela diz respeito à clientes de um banco tailândes. Você deverá editar essa base da seguinte forma:"
      ],
      "metadata": {
        "id": "oiNdPW_4B0J4"
      }
    },
    {
      "cell_type": "code",
      "source": [
        "# Questao 3\n",
        "# NAO ALTERE ESSES COMANDOS\n",
        "# A BASE SERA CARREGADA NO OBJETO `CREDITO`\n",
        "# USE ESSE OBJETO PARA SEGUIR COM OS EXERCICIOS\n",
        "import gdown\n",
        "import pandas as pd\n",
        "\n",
        "url = 'https://drive.google.com/uc?id=1R1nvX6MocByvYBvMs5ujUhbdpW0gRe_X'\n",
        "output = 'dados_credito.csv'\n",
        "gdown.download(url, output, quiet=False)\n",
        "\n",
        "credito = pd.read_csv('/content/dados_credito.csv', sep=';', decimal=',')\n",
        "credito.head(10)"
      ],
      "metadata": {
        "id": "5TDz5HNJCIyv"
      },
      "execution_count": null,
      "outputs": []
    },
    {
      "cell_type": "markdown",
      "source": [
        "**(0,5 ponto)** 3.a) Verifique se os nomes das colunas estão corretos. Caso algum não esteja, corrija-o. Atualize o `data.frame`."
      ],
      "metadata": {
        "id": "TIukIeN6CIgg"
      }
    },
    {
      "cell_type": "code",
      "source": [
        "# Questao 3\n",
        "# 3.a) "
      ],
      "metadata": {
        "id": "Jy2VYKLzJIr3"
      },
      "execution_count": null,
      "outputs": []
    },
    {
      "cell_type": "markdown",
      "source": [
        "**(0,5 ponto)** 3.b) Verifique se há _valores faltantes_ no banco. Caso positivo, remova-os e atualize a base."
      ],
      "metadata": {
        "id": "2Nr_o9y5N8Kb"
      }
    },
    {
      "cell_type": "code",
      "source": [
        "# Questao 3\n",
        "# 3.b) "
      ],
      "metadata": {
        "id": "xpOZokWoOGZy"
      },
      "execution_count": null,
      "outputs": []
    },
    {
      "cell_type": "markdown",
      "source": [
        "**(0,5 ponto)** 3.c) As variáveis `limites`, `valor_divida` e `valor_pago` estão em dólar taiwanês. Assuma que cada dólar taiwânes valha R$0,20. Transforme essas variáveis para que o valor esteja em reais (moeda).\n",
        "\n",
        "> Dica: Multiplique cada variável por 0,2.\n",
        "\n",
        "\n",
        "> Aviso: Caso apareça o seguinte aviso `A value is trying to be set on a copy of a slice from a DataFrame.\n",
        "Try using .loc[row_indexer,col_indexer] = value instead`, ignore por enquanto e veja se o cálculo foi realizado corretamente."
      ],
      "metadata": {
        "id": "kzqhsU2JKVcD"
      }
    },
    {
      "cell_type": "code",
      "source": [
        "# Questao 3\n",
        "# 3.c) "
      ],
      "metadata": {
        "id": "BtH_sMGCLSlM"
      },
      "execution_count": null,
      "outputs": []
    },
    {
      "cell_type": "markdown",
      "source": [
        "**(0,5 ponto)** 3.d) O banco está codificado. Vamos criar variáveis que _traduzam_ os códigos. Crie no banco `credito` as seguintes variáveis:\n",
        "\n",
        "`sexo2`: `sexo = 1, sexo2 = Masculino` ou  `sexo = 2, sexo2 = Feminino` \n",
        "\n",
        "`escolaridade2`: `escolaridade <= 2, escolaridade2 = Ensino superior ou maior` ou `escolaridade >= 3, escolaridade2 = Ensino medio ou menor` \n",
        "\n",
        "`status_civil2`: `status_civil = 1, status_civil2 = Casado(a)` ou  `status_civil = 2, status_civil2 = Solteiro(a)` ou `status_civil = 3, status_civil2 = Outros`\n",
        "\n",
        "`pagamento2`: `pagamento < 0, pagamento2 = Antecipado` ou `pagamento = 0, pagamento2 = Em dia` ou `pagamento > 0, pagamento2 = Atrasado`"
      ],
      "metadata": {
        "id": "f_ERpRiwMyAY"
      }
    },
    {
      "cell_type": "code",
      "source": [
        "# Questao 3\n",
        "# 3.d) "
      ],
      "metadata": {
        "id": "rLdqYV_fMlOZ"
      },
      "execution_count": null,
      "outputs": []
    },
    {
      "cell_type": "markdown",
      "source": [
        "**(0,5 ponto)** 3.e) Organize a base de dados na seguinte ordem:\n",
        "`id`, `limites`, `sexo2`, `escolaridade2`, `status_civil2`, `idade`, `pagamento2`, `valor_divida`, `valor_pago`. Descarte as variáveis `sexo2`, `escolaridade2`, `status_civil2`, e `pagamento2`.\n",
        "\n",
        "Salve a base resultante. "
      ],
      "metadata": {
        "id": "Rdm6RdXKR7Lx"
      }
    },
    {
      "cell_type": "code",
      "source": [
        "# Questao 3\n",
        "# 3.e) "
      ],
      "metadata": {
        "id": "e7hLiMCxSgh5"
      },
      "execution_count": null,
      "outputs": []
    },
    {
      "cell_type": "markdown",
      "source": [
        "**(0,5 ponto)** 3.f) Crie a variável `debito = valor_divida - valor_pago`. Existe algum cliente que possui débito negativo (ou seja, crédito)? Se sim, quantos? \n",
        "\n",
        "Salve a base atualizada. "
      ],
      "metadata": {
        "id": "bT4GNIe_S4_R"
      }
    },
    {
      "cell_type": "code",
      "source": [
        "# Questao 3\n",
        "# 3.f) "
      ],
      "metadata": {
        "id": "57cnAch-S5WR"
      },
      "execution_count": null,
      "outputs": []
    },
    {
      "cell_type": "code",
      "source": [
        "# > Existe algum cliente que possui débito negativo (ou seja, crédito)? \n",
        "# > Se sim, quantos? \n",
        "# Digite o valor (ou o comando) aqui: ________________ "
      ],
      "metadata": {
        "id": "KJEPa3-KUCjn"
      },
      "execution_count": null,
      "outputs": []
    },
    {
      "cell_type": "markdown",
      "source": [
        "**(0,5 ponto)** 3.g) Filtre o banco apenas para clientes com débito. Salve a base atualizada."
      ],
      "metadata": {
        "id": "vQmEfn1zU2vL"
      }
    },
    {
      "cell_type": "code",
      "source": [
        "# Questao 3\n",
        "# 3.g) "
      ],
      "metadata": {
        "id": "U3ejeazUUWBg"
      },
      "execution_count": null,
      "outputs": []
    },
    {
      "cell_type": "markdown",
      "source": [
        "###Questão 4: Pensamento crítico\n",
        "\n",
        "**(1,5 pontos)** Suponha que você trabalhe no banco de onde essa base de dados foi criada e tenha a missão de classificar clientes entre _bons_ e _maus_ pagadores. Quais variáveis você acredita que tenham relação com essa classificação? Para cada variável, justifique sua resposta."
      ],
      "metadata": {
        "id": "lw2wAN51VRqG"
      }
    },
    {
      "cell_type": "markdown",
      "source": [
        "# > Dê dois cliques e registre sua resposta aqui!"
      ],
      "metadata": {
        "id": "8WnXKklJV8Oh"
      }
    }
  ],
  "metadata": {
    "colab": {
      "provenance": [],
      "include_colab_link": true
    },
    "kernelspec": {
      "display_name": "Python 3",
      "name": "python3"
    },
    "language_info": {
      "name": "python"
    }
  },
  "nbformat": 4,
  "nbformat_minor": 0
}